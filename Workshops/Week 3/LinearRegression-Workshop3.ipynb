{
 "cells": [
  {
   "cell_type": "markdown",
   "metadata": {},
   "source": [
    "# Machine Learning Workshop: Week 3\n",
    "\n",
    "This week we will use the theory about linear regression that we have learned last and this week. We will look at polynomial regression using the least squares solution derived before. Here, we will also see interesting findings about model-selection and see the over and under-fitting problem directly in our data set.\n",
    "\n",
    "Please read over the whole notebook. It contains several excercises (4) that you have to complete. "
   ]
  },
  {
   "cell_type": "markdown",
   "metadata": {},
   "source": [
    "# Linear Regression in Matrix Form"
   ]
  },
  {
   "cell_type": "markdown",
   "metadata": {},
   "source": [
    "<img src='files/regression.png'>\n",
    "We want to find a linear function (line) that best fits the data"
   ]
  },
  {
   "cell_type": "markdown",
   "metadata": {},
   "source": [
    "## Linear Functions in vector form"
   ]
  },
  {
   "cell_type": "markdown",
   "metadata": {},
   "source": [
    "More formally, we want to fit a linear function of the following form:\n",
    "    $$\\hat y = w_0 + \\sum_i w_i x_i $$\n",
    "$\\beta_0$ is the offset and $w_i$ defines the slope for the ith input.\n",
    "We can also write the output $\\hat{y}$ in vector form\n",
    "$$\\hat{y} =  \\boldsymbol x^T\\boldsymbol w \\textrm{ with } \\boldsymbol w = \\left[\\begin{array}{c}w_0 \\\\ \\vdots \\\\ w_d \\end{array} \\right] \\textrm{ and } \\boldsymbol x = \\left[\\begin{array}{c}1 \\\\ x_1 \\\\ \\vdots \\\\ x_d \\end{array} \\right]$$\n",
    "Note that we prepended a one to the $\\boldsymbol x$-vector which will multiply with the offset $w_0$ when computing the scalar product."
   ]
  },
  {
   "cell_type": "markdown",
   "metadata": {},
   "source": [
    "## Matrices for multiple outputs"
   ]
  },
  {
   "cell_type": "markdown",
   "metadata": {},
   "source": [
    "We will now consider multiple samples $\\boldsymbol x_i$, where we will prepend again a $1$ to create the ${\\boldsymbol x}_{i} = \\left[\\begin{array}{c}1 \\\\ x_{i,1} \\\\ \\vdots \\\\ x_{i,d} \\end{array} \\right]$ \n",
    " vector. We can stack all ${\\boldsymbol x_{i}}$  in a matrix ${\\boldsymbol X} = \\left[\\begin{array}{c}{\\boldsymbol x}_{1}^T\\\\ \\vdots \\\\ {\\boldsymbol x}^T_{n}  \\end{array} \\right].$\n",
    "The output $\\hat y_i$ for each sample can also be  subsumed in a vector \n",
    "$\\hat{\\boldsymbol y} = \\left[\\begin{array}{c}\\hat{y}_{1}\\\\ \\vdots \\\\ \\hat{ y}_{n}  \\end{array} \\right] = \\left[\\begin{array}{c} {\\boldsymbol x_1}^T {\\boldsymbol w} \\\\ \\vdots \\\\ {\\boldsymbol x_n}^T {\\boldsymbol w}  \\end{array} \\right] = {\\boldsymbol X} {\\boldsymbol{w}}.$ Hence, the computation of all output values can be written as matrix vector product\n"
   ]
  },
  {
   "cell_type": "markdown",
   "metadata": {},
   "source": [
    "## Lets do it in python..."
   ]
  },
  {
   "cell_type": "markdown",
   "metadata": {},
   "source": [
    "We will consider a 1-dimensional problem as illustrated below. We are given 10 training samples and we want to fit\n",
    "a line to these samples. Our line has 2 parameters, $\\beta_0$ and $\\beta_1$. Lets first look at the data and how we can compute a prediction using hand-picked \n",
    "$\\beta_0$ and $\\beta_1$ values. "
   ]
  },
  {
   "cell_type": "code",
   "execution_count": 5,
   "metadata": {
    "scrolled": true
   },
   "outputs": [
    {
     "data": {
      "text/html": [
       "<div>\n",
       "<style>\n",
       "    .dataframe thead tr:only-child th {\n",
       "        text-align: right;\n",
       "    }\n",
       "\n",
       "    .dataframe thead th {\n",
       "        text-align: left;\n",
       "    }\n",
       "\n",
       "    .dataframe tbody tr th {\n",
       "        vertical-align: top;\n",
       "    }\n",
       "</style>\n",
       "<table border=\"1\" class=\"dataframe\">\n",
       "  <thead>\n",
       "    <tr style=\"text-align: right;\">\n",
       "      <th></th>\n",
       "      <th>x</th>\n",
       "      <th>y</th>\n",
       "    </tr>\n",
       "  </thead>\n",
       "  <tbody>\n",
       "    <tr>\n",
       "      <th>0</th>\n",
       "      <td>0.507979</td>\n",
       "      <td>-2.885948</td>\n",
       "    </tr>\n",
       "    <tr>\n",
       "      <th>1</th>\n",
       "      <td>2.081478</td>\n",
       "      <td>-8.107921</td>\n",
       "    </tr>\n",
       "    <tr>\n",
       "      <th>2</th>\n",
       "      <td>-2.090953</td>\n",
       "      <td>-9.628462</td>\n",
       "    </tr>\n",
       "    <tr>\n",
       "      <th>3</th>\n",
       "      <td>0.108276</td>\n",
       "      <td>3.871277</td>\n",
       "    </tr>\n",
       "    <tr>\n",
       "      <th>4</th>\n",
       "      <td>3.929470</td>\n",
       "      <td>29.992393</td>\n",
       "    </tr>\n",
       "    <tr>\n",
       "      <th>5</th>\n",
       "      <td>3.962931</td>\n",
       "      <td>35.265511</td>\n",
       "    </tr>\n",
       "    <tr>\n",
       "      <th>6</th>\n",
       "      <td>-3.744147</td>\n",
       "      <td>-47.535566</td>\n",
       "    </tr>\n",
       "    <tr>\n",
       "      <th>7</th>\n",
       "      <td>-2.927571</td>\n",
       "      <td>-21.047461</td>\n",
       "    </tr>\n",
       "    <tr>\n",
       "      <th>8</th>\n",
       "      <td>-4.485328</td>\n",
       "      <td>-90.654904</td>\n",
       "    </tr>\n",
       "    <tr>\n",
       "      <th>9</th>\n",
       "      <td>-0.591902</td>\n",
       "      <td>-5.330597</td>\n",
       "    </tr>\n",
       "  </tbody>\n",
       "</table>\n",
       "</div>"
      ],
      "text/plain": [
       "          x          y\n",
       "0  0.507979  -2.885948\n",
       "1  2.081478  -8.107921\n",
       "2 -2.090953  -9.628462\n",
       "3  0.108276   3.871277\n",
       "4  3.929470  29.992393\n",
       "5  3.962931  35.265511\n",
       "6 -3.744147 -47.535566\n",
       "7 -2.927571 -21.047461\n",
       "8 -4.485328 -90.654904\n",
       "9 -0.591902  -5.330597"
      ]
     },
     "execution_count": 5,
     "metadata": {},
     "output_type": "execute_result"
    }
   ],
   "source": [
    "import pandas as pd\n",
    "import numpy as np\n",
    "import matplotlib.pyplot\n",
    "\n",
    "data_train = pd.DataFrame.from_csv('regression_train.csv')\n",
    "data_test = pd.DataFrame.from_csv('regression_test.csv')\n",
    "\n",
    "data_train"
   ]
  },
  {
   "cell_type": "markdown",
   "metadata": {},
   "source": [
    "### Get the training data as numpy arrays"
   ]
  },
  {
   "cell_type": "code",
   "execution_count": 2,
   "metadata": {
    "collapsed": true
   },
   "outputs": [],
   "source": [
    "x_train = data_train['x'].as_matrix()\n",
    "y_train = data_train['y'].as_matrix()\n",
    "\n",
    "x_test = data_test['x'].as_matrix()\n",
    "y_test = data_test['y'].as_matrix()\n"
   ]
  },
  {
   "cell_type": "markdown",
   "metadata": {},
   "source": [
    "### Plot the training data"
   ]
  },
  {
   "cell_type": "code",
   "execution_count": 3,
   "metadata": {
    "scrolled": true
   },
   "outputs": [
    {
     "data": {
      "application/javascript": [
       "/* Put everything inside the global mpl namespace */\n",
       "window.mpl = {};\n",
       "\n",
       "\n",
       "mpl.get_websocket_type = function() {\n",
       "    if (typeof(WebSocket) !== 'undefined') {\n",
       "        return WebSocket;\n",
       "    } else if (typeof(MozWebSocket) !== 'undefined') {\n",
       "        return MozWebSocket;\n",
       "    } else {\n",
       "        alert('Your browser does not have WebSocket support.' +\n",
       "              'Please try Chrome, Safari or Firefox ≥ 6. ' +\n",
       "              'Firefox 4 and 5 are also supported but you ' +\n",
       "              'have to enable WebSockets in about:config.');\n",
       "    };\n",
       "}\n",
       "\n",
       "mpl.figure = function(figure_id, websocket, ondownload, parent_element) {\n",
       "    this.id = figure_id;\n",
       "\n",
       "    this.ws = websocket;\n",
       "\n",
       "    this.supports_binary = (this.ws.binaryType != undefined);\n",
       "\n",
       "    if (!this.supports_binary) {\n",
       "        var warnings = document.getElementById(\"mpl-warnings\");\n",
       "        if (warnings) {\n",
       "            warnings.style.display = 'block';\n",
       "            warnings.textContent = (\n",
       "                \"This browser does not support binary websocket messages. \" +\n",
       "                    \"Performance may be slow.\");\n",
       "        }\n",
       "    }\n",
       "\n",
       "    this.imageObj = new Image();\n",
       "\n",
       "    this.context = undefined;\n",
       "    this.message = undefined;\n",
       "    this.canvas = undefined;\n",
       "    this.rubberband_canvas = undefined;\n",
       "    this.rubberband_context = undefined;\n",
       "    this.format_dropdown = undefined;\n",
       "\n",
       "    this.image_mode = 'full';\n",
       "\n",
       "    this.root = $('<div/>');\n",
       "    this._root_extra_style(this.root)\n",
       "    this.root.attr('style', 'display: inline-block');\n",
       "\n",
       "    $(parent_element).append(this.root);\n",
       "\n",
       "    this._init_header(this);\n",
       "    this._init_canvas(this);\n",
       "    this._init_toolbar(this);\n",
       "\n",
       "    var fig = this;\n",
       "\n",
       "    this.waiting = false;\n",
       "\n",
       "    this.ws.onopen =  function () {\n",
       "            fig.send_message(\"supports_binary\", {value: fig.supports_binary});\n",
       "            fig.send_message(\"send_image_mode\", {});\n",
       "            if (mpl.ratio != 1) {\n",
       "                fig.send_message(\"set_dpi_ratio\", {'dpi_ratio': mpl.ratio});\n",
       "            }\n",
       "            fig.send_message(\"refresh\", {});\n",
       "        }\n",
       "\n",
       "    this.imageObj.onload = function() {\n",
       "            if (fig.image_mode == 'full') {\n",
       "                // Full images could contain transparency (where diff images\n",
       "                // almost always do), so we need to clear the canvas so that\n",
       "                // there is no ghosting.\n",
       "                fig.context.clearRect(0, 0, fig.canvas.width, fig.canvas.height);\n",
       "            }\n",
       "            fig.context.drawImage(fig.imageObj, 0, 0);\n",
       "        };\n",
       "\n",
       "    this.imageObj.onunload = function() {\n",
       "        this.ws.close();\n",
       "    }\n",
       "\n",
       "    this.ws.onmessage = this._make_on_message_function(this);\n",
       "\n",
       "    this.ondownload = ondownload;\n",
       "}\n",
       "\n",
       "mpl.figure.prototype._init_header = function() {\n",
       "    var titlebar = $(\n",
       "        '<div class=\"ui-dialog-titlebar ui-widget-header ui-corner-all ' +\n",
       "        'ui-helper-clearfix\"/>');\n",
       "    var titletext = $(\n",
       "        '<div class=\"ui-dialog-title\" style=\"width: 100%; ' +\n",
       "        'text-align: center; padding: 3px;\"/>');\n",
       "    titlebar.append(titletext)\n",
       "    this.root.append(titlebar);\n",
       "    this.header = titletext[0];\n",
       "}\n",
       "\n",
       "\n",
       "\n",
       "mpl.figure.prototype._canvas_extra_style = function(canvas_div) {\n",
       "\n",
       "}\n",
       "\n",
       "\n",
       "mpl.figure.prototype._root_extra_style = function(canvas_div) {\n",
       "\n",
       "}\n",
       "\n",
       "mpl.figure.prototype._init_canvas = function() {\n",
       "    var fig = this;\n",
       "\n",
       "    var canvas_div = $('<div/>');\n",
       "\n",
       "    canvas_div.attr('style', 'position: relative; clear: both; outline: 0');\n",
       "\n",
       "    function canvas_keyboard_event(event) {\n",
       "        return fig.key_event(event, event['data']);\n",
       "    }\n",
       "\n",
       "    canvas_div.keydown('key_press', canvas_keyboard_event);\n",
       "    canvas_div.keyup('key_release', canvas_keyboard_event);\n",
       "    this.canvas_div = canvas_div\n",
       "    this._canvas_extra_style(canvas_div)\n",
       "    this.root.append(canvas_div);\n",
       "\n",
       "    var canvas = $('<canvas/>');\n",
       "    canvas.addClass('mpl-canvas');\n",
       "    canvas.attr('style', \"left: 0; top: 0; z-index: 0; outline: 0\")\n",
       "\n",
       "    this.canvas = canvas[0];\n",
       "    this.context = canvas[0].getContext(\"2d\");\n",
       "\n",
       "    var backingStore = this.context.backingStorePixelRatio ||\n",
       "\tthis.context.webkitBackingStorePixelRatio ||\n",
       "\tthis.context.mozBackingStorePixelRatio ||\n",
       "\tthis.context.msBackingStorePixelRatio ||\n",
       "\tthis.context.oBackingStorePixelRatio ||\n",
       "\tthis.context.backingStorePixelRatio || 1;\n",
       "\n",
       "    mpl.ratio = (window.devicePixelRatio || 1) / backingStore;\n",
       "\n",
       "    var rubberband = $('<canvas/>');\n",
       "    rubberband.attr('style', \"position: absolute; left: 0; top: 0; z-index: 1;\")\n",
       "\n",
       "    var pass_mouse_events = true;\n",
       "\n",
       "    canvas_div.resizable({\n",
       "        start: function(event, ui) {\n",
       "            pass_mouse_events = false;\n",
       "        },\n",
       "        resize: function(event, ui) {\n",
       "            fig.request_resize(ui.size.width, ui.size.height);\n",
       "        },\n",
       "        stop: function(event, ui) {\n",
       "            pass_mouse_events = true;\n",
       "            fig.request_resize(ui.size.width, ui.size.height);\n",
       "        },\n",
       "    });\n",
       "\n",
       "    function mouse_event_fn(event) {\n",
       "        if (pass_mouse_events)\n",
       "            return fig.mouse_event(event, event['data']);\n",
       "    }\n",
       "\n",
       "    rubberband.mousedown('button_press', mouse_event_fn);\n",
       "    rubberband.mouseup('button_release', mouse_event_fn);\n",
       "    // Throttle sequential mouse events to 1 every 20ms.\n",
       "    rubberband.mousemove('motion_notify', mouse_event_fn);\n",
       "\n",
       "    rubberband.mouseenter('figure_enter', mouse_event_fn);\n",
       "    rubberband.mouseleave('figure_leave', mouse_event_fn);\n",
       "\n",
       "    canvas_div.on(\"wheel\", function (event) {\n",
       "        event = event.originalEvent;\n",
       "        event['data'] = 'scroll'\n",
       "        if (event.deltaY < 0) {\n",
       "            event.step = 1;\n",
       "        } else {\n",
       "            event.step = -1;\n",
       "        }\n",
       "        mouse_event_fn(event);\n",
       "    });\n",
       "\n",
       "    canvas_div.append(canvas);\n",
       "    canvas_div.append(rubberband);\n",
       "\n",
       "    this.rubberband = rubberband;\n",
       "    this.rubberband_canvas = rubberband[0];\n",
       "    this.rubberband_context = rubberband[0].getContext(\"2d\");\n",
       "    this.rubberband_context.strokeStyle = \"#000000\";\n",
       "\n",
       "    this._resize_canvas = function(width, height) {\n",
       "        // Keep the size of the canvas, canvas container, and rubber band\n",
       "        // canvas in synch.\n",
       "        canvas_div.css('width', width)\n",
       "        canvas_div.css('height', height)\n",
       "\n",
       "        canvas.attr('width', width * mpl.ratio);\n",
       "        canvas.attr('height', height * mpl.ratio);\n",
       "        canvas.attr('style', 'width: ' + width + 'px; height: ' + height + 'px;');\n",
       "\n",
       "        rubberband.attr('width', width);\n",
       "        rubberband.attr('height', height);\n",
       "    }\n",
       "\n",
       "    // Set the figure to an initial 600x600px, this will subsequently be updated\n",
       "    // upon first draw.\n",
       "    this._resize_canvas(600, 600);\n",
       "\n",
       "    // Disable right mouse context menu.\n",
       "    $(this.rubberband_canvas).bind(\"contextmenu\",function(e){\n",
       "        return false;\n",
       "    });\n",
       "\n",
       "    function set_focus () {\n",
       "        canvas.focus();\n",
       "        canvas_div.focus();\n",
       "    }\n",
       "\n",
       "    window.setTimeout(set_focus, 100);\n",
       "}\n",
       "\n",
       "mpl.figure.prototype._init_toolbar = function() {\n",
       "    var fig = this;\n",
       "\n",
       "    var nav_element = $('<div/>')\n",
       "    nav_element.attr('style', 'width: 100%');\n",
       "    this.root.append(nav_element);\n",
       "\n",
       "    // Define a callback function for later on.\n",
       "    function toolbar_event(event) {\n",
       "        return fig.toolbar_button_onclick(event['data']);\n",
       "    }\n",
       "    function toolbar_mouse_event(event) {\n",
       "        return fig.toolbar_button_onmouseover(event['data']);\n",
       "    }\n",
       "\n",
       "    for(var toolbar_ind in mpl.toolbar_items) {\n",
       "        var name = mpl.toolbar_items[toolbar_ind][0];\n",
       "        var tooltip = mpl.toolbar_items[toolbar_ind][1];\n",
       "        var image = mpl.toolbar_items[toolbar_ind][2];\n",
       "        var method_name = mpl.toolbar_items[toolbar_ind][3];\n",
       "\n",
       "        if (!name) {\n",
       "            // put a spacer in here.\n",
       "            continue;\n",
       "        }\n",
       "        var button = $('<button/>');\n",
       "        button.addClass('ui-button ui-widget ui-state-default ui-corner-all ' +\n",
       "                        'ui-button-icon-only');\n",
       "        button.attr('role', 'button');\n",
       "        button.attr('aria-disabled', 'false');\n",
       "        button.click(method_name, toolbar_event);\n",
       "        button.mouseover(tooltip, toolbar_mouse_event);\n",
       "\n",
       "        var icon_img = $('<span/>');\n",
       "        icon_img.addClass('ui-button-icon-primary ui-icon');\n",
       "        icon_img.addClass(image);\n",
       "        icon_img.addClass('ui-corner-all');\n",
       "\n",
       "        var tooltip_span = $('<span/>');\n",
       "        tooltip_span.addClass('ui-button-text');\n",
       "        tooltip_span.html(tooltip);\n",
       "\n",
       "        button.append(icon_img);\n",
       "        button.append(tooltip_span);\n",
       "\n",
       "        nav_element.append(button);\n",
       "    }\n",
       "\n",
       "    var fmt_picker_span = $('<span/>');\n",
       "\n",
       "    var fmt_picker = $('<select/>');\n",
       "    fmt_picker.addClass('mpl-toolbar-option ui-widget ui-widget-content');\n",
       "    fmt_picker_span.append(fmt_picker);\n",
       "    nav_element.append(fmt_picker_span);\n",
       "    this.format_dropdown = fmt_picker[0];\n",
       "\n",
       "    for (var ind in mpl.extensions) {\n",
       "        var fmt = mpl.extensions[ind];\n",
       "        var option = $(\n",
       "            '<option/>', {selected: fmt === mpl.default_extension}).html(fmt);\n",
       "        fmt_picker.append(option)\n",
       "    }\n",
       "\n",
       "    // Add hover states to the ui-buttons\n",
       "    $( \".ui-button\" ).hover(\n",
       "        function() { $(this).addClass(\"ui-state-hover\");},\n",
       "        function() { $(this).removeClass(\"ui-state-hover\");}\n",
       "    );\n",
       "\n",
       "    var status_bar = $('<span class=\"mpl-message\"/>');\n",
       "    nav_element.append(status_bar);\n",
       "    this.message = status_bar[0];\n",
       "}\n",
       "\n",
       "mpl.figure.prototype.request_resize = function(x_pixels, y_pixels) {\n",
       "    // Request matplotlib to resize the figure. Matplotlib will then trigger a resize in the client,\n",
       "    // which will in turn request a refresh of the image.\n",
       "    this.send_message('resize', {'width': x_pixels, 'height': y_pixels});\n",
       "}\n",
       "\n",
       "mpl.figure.prototype.send_message = function(type, properties) {\n",
       "    properties['type'] = type;\n",
       "    properties['figure_id'] = this.id;\n",
       "    this.ws.send(JSON.stringify(properties));\n",
       "}\n",
       "\n",
       "mpl.figure.prototype.send_draw_message = function() {\n",
       "    if (!this.waiting) {\n",
       "        this.waiting = true;\n",
       "        this.ws.send(JSON.stringify({type: \"draw\", figure_id: this.id}));\n",
       "    }\n",
       "}\n",
       "\n",
       "\n",
       "mpl.figure.prototype.handle_save = function(fig, msg) {\n",
       "    var format_dropdown = fig.format_dropdown;\n",
       "    var format = format_dropdown.options[format_dropdown.selectedIndex].value;\n",
       "    fig.ondownload(fig, format);\n",
       "}\n",
       "\n",
       "\n",
       "mpl.figure.prototype.handle_resize = function(fig, msg) {\n",
       "    var size = msg['size'];\n",
       "    if (size[0] != fig.canvas.width || size[1] != fig.canvas.height) {\n",
       "        fig._resize_canvas(size[0], size[1]);\n",
       "        fig.send_message(\"refresh\", {});\n",
       "    };\n",
       "}\n",
       "\n",
       "mpl.figure.prototype.handle_rubberband = function(fig, msg) {\n",
       "    var x0 = msg['x0'] / mpl.ratio;\n",
       "    var y0 = (fig.canvas.height - msg['y0']) / mpl.ratio;\n",
       "    var x1 = msg['x1'] / mpl.ratio;\n",
       "    var y1 = (fig.canvas.height - msg['y1']) / mpl.ratio;\n",
       "    x0 = Math.floor(x0) + 0.5;\n",
       "    y0 = Math.floor(y0) + 0.5;\n",
       "    x1 = Math.floor(x1) + 0.5;\n",
       "    y1 = Math.floor(y1) + 0.5;\n",
       "    var min_x = Math.min(x0, x1);\n",
       "    var min_y = Math.min(y0, y1);\n",
       "    var width = Math.abs(x1 - x0);\n",
       "    var height = Math.abs(y1 - y0);\n",
       "\n",
       "    fig.rubberband_context.clearRect(\n",
       "        0, 0, fig.canvas.width, fig.canvas.height);\n",
       "\n",
       "    fig.rubberband_context.strokeRect(min_x, min_y, width, height);\n",
       "}\n",
       "\n",
       "mpl.figure.prototype.handle_figure_label = function(fig, msg) {\n",
       "    // Updates the figure title.\n",
       "    fig.header.textContent = msg['label'];\n",
       "}\n",
       "\n",
       "mpl.figure.prototype.handle_cursor = function(fig, msg) {\n",
       "    var cursor = msg['cursor'];\n",
       "    switch(cursor)\n",
       "    {\n",
       "    case 0:\n",
       "        cursor = 'pointer';\n",
       "        break;\n",
       "    case 1:\n",
       "        cursor = 'default';\n",
       "        break;\n",
       "    case 2:\n",
       "        cursor = 'crosshair';\n",
       "        break;\n",
       "    case 3:\n",
       "        cursor = 'move';\n",
       "        break;\n",
       "    }\n",
       "    fig.rubberband_canvas.style.cursor = cursor;\n",
       "}\n",
       "\n",
       "mpl.figure.prototype.handle_message = function(fig, msg) {\n",
       "    fig.message.textContent = msg['message'];\n",
       "}\n",
       "\n",
       "mpl.figure.prototype.handle_draw = function(fig, msg) {\n",
       "    // Request the server to send over a new figure.\n",
       "    fig.send_draw_message();\n",
       "}\n",
       "\n",
       "mpl.figure.prototype.handle_image_mode = function(fig, msg) {\n",
       "    fig.image_mode = msg['mode'];\n",
       "}\n",
       "\n",
       "mpl.figure.prototype.updated_canvas_event = function() {\n",
       "    // Called whenever the canvas gets updated.\n",
       "    this.send_message(\"ack\", {});\n",
       "}\n",
       "\n",
       "// A function to construct a web socket function for onmessage handling.\n",
       "// Called in the figure constructor.\n",
       "mpl.figure.prototype._make_on_message_function = function(fig) {\n",
       "    return function socket_on_message(evt) {\n",
       "        if (evt.data instanceof Blob) {\n",
       "            /* FIXME: We get \"Resource interpreted as Image but\n",
       "             * transferred with MIME type text/plain:\" errors on\n",
       "             * Chrome.  But how to set the MIME type?  It doesn't seem\n",
       "             * to be part of the websocket stream */\n",
       "            evt.data.type = \"image/png\";\n",
       "\n",
       "            /* Free the memory for the previous frames */\n",
       "            if (fig.imageObj.src) {\n",
       "                (window.URL || window.webkitURL).revokeObjectURL(\n",
       "                    fig.imageObj.src);\n",
       "            }\n",
       "\n",
       "            fig.imageObj.src = (window.URL || window.webkitURL).createObjectURL(\n",
       "                evt.data);\n",
       "            fig.updated_canvas_event();\n",
       "            fig.waiting = false;\n",
       "            return;\n",
       "        }\n",
       "        else if (typeof evt.data === 'string' && evt.data.slice(0, 21) == \"data:image/png;base64\") {\n",
       "            fig.imageObj.src = evt.data;\n",
       "            fig.updated_canvas_event();\n",
       "            fig.waiting = false;\n",
       "            return;\n",
       "        }\n",
       "\n",
       "        var msg = JSON.parse(evt.data);\n",
       "        var msg_type = msg['type'];\n",
       "\n",
       "        // Call the  \"handle_{type}\" callback, which takes\n",
       "        // the figure and JSON message as its only arguments.\n",
       "        try {\n",
       "            var callback = fig[\"handle_\" + msg_type];\n",
       "        } catch (e) {\n",
       "            console.log(\"No handler for the '\" + msg_type + \"' message type: \", msg);\n",
       "            return;\n",
       "        }\n",
       "\n",
       "        if (callback) {\n",
       "            try {\n",
       "                // console.log(\"Handling '\" + msg_type + \"' message: \", msg);\n",
       "                callback(fig, msg);\n",
       "            } catch (e) {\n",
       "                console.log(\"Exception inside the 'handler_\" + msg_type + \"' callback:\", e, e.stack, msg);\n",
       "            }\n",
       "        }\n",
       "    };\n",
       "}\n",
       "\n",
       "// from http://stackoverflow.com/questions/1114465/getting-mouse-location-in-canvas\n",
       "mpl.findpos = function(e) {\n",
       "    //this section is from http://www.quirksmode.org/js/events_properties.html\n",
       "    var targ;\n",
       "    if (!e)\n",
       "        e = window.event;\n",
       "    if (e.target)\n",
       "        targ = e.target;\n",
       "    else if (e.srcElement)\n",
       "        targ = e.srcElement;\n",
       "    if (targ.nodeType == 3) // defeat Safari bug\n",
       "        targ = targ.parentNode;\n",
       "\n",
       "    // jQuery normalizes the pageX and pageY\n",
       "    // pageX,Y are the mouse positions relative to the document\n",
       "    // offset() returns the position of the element relative to the document\n",
       "    var x = e.pageX - $(targ).offset().left;\n",
       "    var y = e.pageY - $(targ).offset().top;\n",
       "\n",
       "    return {\"x\": x, \"y\": y};\n",
       "};\n",
       "\n",
       "/*\n",
       " * return a copy of an object with only non-object keys\n",
       " * we need this to avoid circular references\n",
       " * http://stackoverflow.com/a/24161582/3208463\n",
       " */\n",
       "function simpleKeys (original) {\n",
       "  return Object.keys(original).reduce(function (obj, key) {\n",
       "    if (typeof original[key] !== 'object')\n",
       "        obj[key] = original[key]\n",
       "    return obj;\n",
       "  }, {});\n",
       "}\n",
       "\n",
       "mpl.figure.prototype.mouse_event = function(event, name) {\n",
       "    var canvas_pos = mpl.findpos(event)\n",
       "\n",
       "    if (name === 'button_press')\n",
       "    {\n",
       "        this.canvas.focus();\n",
       "        this.canvas_div.focus();\n",
       "    }\n",
       "\n",
       "    var x = canvas_pos.x * mpl.ratio;\n",
       "    var y = canvas_pos.y * mpl.ratio;\n",
       "\n",
       "    this.send_message(name, {x: x, y: y, button: event.button,\n",
       "                             step: event.step,\n",
       "                             guiEvent: simpleKeys(event)});\n",
       "\n",
       "    /* This prevents the web browser from automatically changing to\n",
       "     * the text insertion cursor when the button is pressed.  We want\n",
       "     * to control all of the cursor setting manually through the\n",
       "     * 'cursor' event from matplotlib */\n",
       "    event.preventDefault();\n",
       "    return false;\n",
       "}\n",
       "\n",
       "mpl.figure.prototype._key_event_extra = function(event, name) {\n",
       "    // Handle any extra behaviour associated with a key event\n",
       "}\n",
       "\n",
       "mpl.figure.prototype.key_event = function(event, name) {\n",
       "\n",
       "    // Prevent repeat events\n",
       "    if (name == 'key_press')\n",
       "    {\n",
       "        if (event.which === this._key)\n",
       "            return;\n",
       "        else\n",
       "            this._key = event.which;\n",
       "    }\n",
       "    if (name == 'key_release')\n",
       "        this._key = null;\n",
       "\n",
       "    var value = '';\n",
       "    if (event.ctrlKey && event.which != 17)\n",
       "        value += \"ctrl+\";\n",
       "    if (event.altKey && event.which != 18)\n",
       "        value += \"alt+\";\n",
       "    if (event.shiftKey && event.which != 16)\n",
       "        value += \"shift+\";\n",
       "\n",
       "    value += 'k';\n",
       "    value += event.which.toString();\n",
       "\n",
       "    this._key_event_extra(event, name);\n",
       "\n",
       "    this.send_message(name, {key: value,\n",
       "                             guiEvent: simpleKeys(event)});\n",
       "    return false;\n",
       "}\n",
       "\n",
       "mpl.figure.prototype.toolbar_button_onclick = function(name) {\n",
       "    if (name == 'download') {\n",
       "        this.handle_save(this, null);\n",
       "    } else {\n",
       "        this.send_message(\"toolbar_button\", {name: name});\n",
       "    }\n",
       "};\n",
       "\n",
       "mpl.figure.prototype.toolbar_button_onmouseover = function(tooltip) {\n",
       "    this.message.textContent = tooltip;\n",
       "};\n",
       "mpl.toolbar_items = [[\"Home\", \"Reset original view\", \"fa fa-home icon-home\", \"home\"], [\"Back\", \"Back to  previous view\", \"fa fa-arrow-left icon-arrow-left\", \"back\"], [\"Forward\", \"Forward to next view\", \"fa fa-arrow-right icon-arrow-right\", \"forward\"], [\"\", \"\", \"\", \"\"], [\"Pan\", \"Pan axes with left mouse, zoom with right\", \"fa fa-arrows icon-move\", \"pan\"], [\"Zoom\", \"Zoom to rectangle\", \"fa fa-square-o icon-check-empty\", \"zoom\"], [\"\", \"\", \"\", \"\"], [\"Download\", \"Download plot\", \"fa fa-floppy-o icon-save\", \"download\"]];\n",
       "\n",
       "mpl.extensions = [\"eps\", \"jpeg\", \"pdf\", \"png\", \"ps\", \"raw\", \"svg\", \"tif\"];\n",
       "\n",
       "mpl.default_extension = \"png\";var comm_websocket_adapter = function(comm) {\n",
       "    // Create a \"websocket\"-like object which calls the given IPython comm\n",
       "    // object with the appropriate methods. Currently this is a non binary\n",
       "    // socket, so there is still some room for performance tuning.\n",
       "    var ws = {};\n",
       "\n",
       "    ws.close = function() {\n",
       "        comm.close()\n",
       "    };\n",
       "    ws.send = function(m) {\n",
       "        //console.log('sending', m);\n",
       "        comm.send(m);\n",
       "    };\n",
       "    // Register the callback with on_msg.\n",
       "    comm.on_msg(function(msg) {\n",
       "        //console.log('receiving', msg['content']['data'], msg);\n",
       "        // Pass the mpl event to the overriden (by mpl) onmessage function.\n",
       "        ws.onmessage(msg['content']['data'])\n",
       "    });\n",
       "    return ws;\n",
       "}\n",
       "\n",
       "mpl.mpl_figure_comm = function(comm, msg) {\n",
       "    // This is the function which gets called when the mpl process\n",
       "    // starts-up an IPython Comm through the \"matplotlib\" channel.\n",
       "\n",
       "    var id = msg.content.data.id;\n",
       "    // Get hold of the div created by the display call when the Comm\n",
       "    // socket was opened in Python.\n",
       "    var element = $(\"#\" + id);\n",
       "    var ws_proxy = comm_websocket_adapter(comm)\n",
       "\n",
       "    function ondownload(figure, format) {\n",
       "        window.open(figure.imageObj.src);\n",
       "    }\n",
       "\n",
       "    var fig = new mpl.figure(id, ws_proxy,\n",
       "                           ondownload,\n",
       "                           element.get(0));\n",
       "\n",
       "    // Call onopen now - mpl needs it, as it is assuming we've passed it a real\n",
       "    // web socket which is closed, not our websocket->open comm proxy.\n",
       "    ws_proxy.onopen();\n",
       "\n",
       "    fig.parent_element = element.get(0);\n",
       "    fig.cell_info = mpl.find_output_cell(\"<div id='\" + id + \"'></div>\");\n",
       "    if (!fig.cell_info) {\n",
       "        console.error(\"Failed to find cell for figure\", id, fig);\n",
       "        return;\n",
       "    }\n",
       "\n",
       "    var output_index = fig.cell_info[2]\n",
       "    var cell = fig.cell_info[0];\n",
       "\n",
       "};\n",
       "\n",
       "mpl.figure.prototype.handle_close = function(fig, msg) {\n",
       "    var width = fig.canvas.width/mpl.ratio\n",
       "    fig.root.unbind('remove')\n",
       "\n",
       "    // Update the output cell to use the data from the current canvas.\n",
       "    fig.push_to_output();\n",
       "    var dataURL = fig.canvas.toDataURL();\n",
       "    // Re-enable the keyboard manager in IPython - without this line, in FF,\n",
       "    // the notebook keyboard shortcuts fail.\n",
       "    IPython.keyboard_manager.enable()\n",
       "    $(fig.parent_element).html('<img src=\"' + dataURL + '\" width=\"' + width + '\">');\n",
       "    fig.close_ws(fig, msg);\n",
       "}\n",
       "\n",
       "mpl.figure.prototype.close_ws = function(fig, msg){\n",
       "    fig.send_message('closing', msg);\n",
       "    // fig.ws.close()\n",
       "}\n",
       "\n",
       "mpl.figure.prototype.push_to_output = function(remove_interactive) {\n",
       "    // Turn the data on the canvas into data in the output cell.\n",
       "    var width = this.canvas.width/mpl.ratio\n",
       "    var dataURL = this.canvas.toDataURL();\n",
       "    this.cell_info[1]['text/html'] = '<img src=\"' + dataURL + '\" width=\"' + width + '\">';\n",
       "}\n",
       "\n",
       "mpl.figure.prototype.updated_canvas_event = function() {\n",
       "    // Tell IPython that the notebook contents must change.\n",
       "    IPython.notebook.set_dirty(true);\n",
       "    this.send_message(\"ack\", {});\n",
       "    var fig = this;\n",
       "    // Wait a second, then push the new image to the DOM so\n",
       "    // that it is saved nicely (might be nice to debounce this).\n",
       "    setTimeout(function () { fig.push_to_output() }, 1000);\n",
       "}\n",
       "\n",
       "mpl.figure.prototype._init_toolbar = function() {\n",
       "    var fig = this;\n",
       "\n",
       "    var nav_element = $('<div/>')\n",
       "    nav_element.attr('style', 'width: 100%');\n",
       "    this.root.append(nav_element);\n",
       "\n",
       "    // Define a callback function for later on.\n",
       "    function toolbar_event(event) {\n",
       "        return fig.toolbar_button_onclick(event['data']);\n",
       "    }\n",
       "    function toolbar_mouse_event(event) {\n",
       "        return fig.toolbar_button_onmouseover(event['data']);\n",
       "    }\n",
       "\n",
       "    for(var toolbar_ind in mpl.toolbar_items){\n",
       "        var name = mpl.toolbar_items[toolbar_ind][0];\n",
       "        var tooltip = mpl.toolbar_items[toolbar_ind][1];\n",
       "        var image = mpl.toolbar_items[toolbar_ind][2];\n",
       "        var method_name = mpl.toolbar_items[toolbar_ind][3];\n",
       "\n",
       "        if (!name) { continue; };\n",
       "\n",
       "        var button = $('<button class=\"btn btn-default\" href=\"#\" title=\"' + name + '\"><i class=\"fa ' + image + ' fa-lg\"></i></button>');\n",
       "        button.click(method_name, toolbar_event);\n",
       "        button.mouseover(tooltip, toolbar_mouse_event);\n",
       "        nav_element.append(button);\n",
       "    }\n",
       "\n",
       "    // Add the status bar.\n",
       "    var status_bar = $('<span class=\"mpl-message\" style=\"text-align:right; float: right;\"/>');\n",
       "    nav_element.append(status_bar);\n",
       "    this.message = status_bar[0];\n",
       "\n",
       "    // Add the close button to the window.\n",
       "    var buttongrp = $('<div class=\"btn-group inline pull-right\"></div>');\n",
       "    var button = $('<button class=\"btn btn-mini btn-primary\" href=\"#\" title=\"Stop Interaction\"><i class=\"fa fa-power-off icon-remove icon-large\"></i></button>');\n",
       "    button.click(function (evt) { fig.handle_close(fig, {}); } );\n",
       "    button.mouseover('Stop Interaction', toolbar_mouse_event);\n",
       "    buttongrp.append(button);\n",
       "    var titlebar = this.root.find($('.ui-dialog-titlebar'));\n",
       "    titlebar.prepend(buttongrp);\n",
       "}\n",
       "\n",
       "mpl.figure.prototype._root_extra_style = function(el){\n",
       "    var fig = this\n",
       "    el.on(\"remove\", function(){\n",
       "\tfig.close_ws(fig, {});\n",
       "    });\n",
       "}\n",
       "\n",
       "mpl.figure.prototype._canvas_extra_style = function(el){\n",
       "    // this is important to make the div 'focusable\n",
       "    el.attr('tabindex', 0)\n",
       "    // reach out to IPython and tell the keyboard manager to turn it's self\n",
       "    // off when our div gets focus\n",
       "\n",
       "    // location in version 3\n",
       "    if (IPython.notebook.keyboard_manager) {\n",
       "        IPython.notebook.keyboard_manager.register_events(el);\n",
       "    }\n",
       "    else {\n",
       "        // location in version 2\n",
       "        IPython.keyboard_manager.register_events(el);\n",
       "    }\n",
       "\n",
       "}\n",
       "\n",
       "mpl.figure.prototype._key_event_extra = function(event, name) {\n",
       "    var manager = IPython.notebook.keyboard_manager;\n",
       "    if (!manager)\n",
       "        manager = IPython.keyboard_manager;\n",
       "\n",
       "    // Check for shift+enter\n",
       "    if (event.shiftKey && event.which == 13) {\n",
       "        this.canvas_div.blur();\n",
       "        // select the cell after this one\n",
       "        var index = IPython.notebook.find_cell_index(this.cell_info[0]);\n",
       "        IPython.notebook.select(index + 1);\n",
       "    }\n",
       "}\n",
       "\n",
       "mpl.figure.prototype.handle_save = function(fig, msg) {\n",
       "    fig.ondownload(fig, null);\n",
       "}\n",
       "\n",
       "\n",
       "mpl.find_output_cell = function(html_output) {\n",
       "    // Return the cell and output element which can be found *uniquely* in the notebook.\n",
       "    // Note - this is a bit hacky, but it is done because the \"notebook_saving.Notebook\"\n",
       "    // IPython event is triggered only after the cells have been serialised, which for\n",
       "    // our purposes (turning an active figure into a static one), is too late.\n",
       "    var cells = IPython.notebook.get_cells();\n",
       "    var ncells = cells.length;\n",
       "    for (var i=0; i<ncells; i++) {\n",
       "        var cell = cells[i];\n",
       "        if (cell.cell_type === 'code'){\n",
       "            for (var j=0; j<cell.output_area.outputs.length; j++) {\n",
       "                var data = cell.output_area.outputs[j];\n",
       "                if (data.data) {\n",
       "                    // IPython >= 3 moved mimebundle to data attribute of output\n",
       "                    data = data.data;\n",
       "                }\n",
       "                if (data['text/html'] == html_output) {\n",
       "                    return [cell, data, j];\n",
       "                }\n",
       "            }\n",
       "        }\n",
       "    }\n",
       "}\n",
       "\n",
       "// Register the function which deals with the matplotlib target/channel.\n",
       "// The kernel may be null if the page has been refreshed.\n",
       "if (IPython.notebook.kernel != null) {\n",
       "    IPython.notebook.kernel.comm_manager.register_target('matplotlib', mpl.mpl_figure_comm);\n",
       "}\n"
      ],
      "text/plain": [
       "<IPython.core.display.Javascript object>"
      ]
     },
     "metadata": {},
     "output_type": "display_data"
    },
    {
     "data": {
      "text/html": [
       "<img src=\"data:image/png;base64,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\" width=\"640\">"
      ],
      "text/plain": [
       "<IPython.core.display.HTML object>"
      ]
     },
     "metadata": {},
     "output_type": "display_data"
    }
   ],
   "source": [
    "%matplotlib notebook\n",
    "## get input output vectors from the data frame and plot the data\n",
    "import matplotlib.pyplot as plt\n",
    "\n",
    "\n",
    "plt.clf()\n",
    "plt.plot(x_train,y_train, 'bo')\n",
    "plt.plot(x_test,y_test, 'g')\n",
    "plt.legend(('training points', 'ground truth'))\n",
    "#plt.hold(True)\n",
    "plt.savefig('trainingdata.png')\n",
    "plt.show()"
   ]
  },
  {
   "cell_type": "markdown",
   "metadata": {},
   "source": [
    "## Preparing the data matrix\n",
    "As a first step, lets construct the $\\tilde{\\boldsymbol{X}}$ matrix "
   ]
  },
  {
   "cell_type": "code",
   "execution_count": 6,
   "metadata": {
    "scrolled": true
   },
   "outputs": [
    {
     "data": {
      "text/plain": [
       "array([[ 1.        ,  0.50797903],\n",
       "       [ 1.        ,  2.08147823],\n",
       "       [ 1.        , -2.09095261],\n",
       "       [ 1.        ,  0.10827605],\n",
       "       [ 1.        ,  3.92946954],\n",
       "       [ 1.        ,  3.96293089],\n",
       "       [ 1.        , -3.7441469 ],\n",
       "       [ 1.        , -2.92757122],\n",
       "       [ 1.        , -4.48532797],\n",
       "       [ 1.        , -0.59190156]])"
      ]
     },
     "execution_count": 6,
     "metadata": {},
     "output_type": "execute_result"
    }
   ],
   "source": [
    "X = np.column_stack((np.ones(x_train.shape), x_train))\n",
    "X"
   ]
  },
  {
   "cell_type": "markdown",
   "metadata": {},
   "source": [
    "# Matrix calculus"
   ]
  },
  {
   "cell_type": "markdown",
   "metadata": {},
   "source": [
    "Now, we want to compute the derivatives of functions $f(\\boldsymbol{x})$ that take several input values, i.e., a vector $\\boldsymbol{x}$. As we have several input values $x_i$, we also need to derive the function with respect to each of them. The derivative of $f$ is therefore not a single value, but a vector that contains the derivative w.r.t each variable, i.e.\n",
    "$$\\frac{\\partial f(\\boldsymbol x)}{\\partial \\boldsymbol x} = \\left[\\frac{\\partial f(\\boldsymbol x)}{\\partial  x_1}, \\dots, \\frac{\\partial f(\\boldsymbol x)}{\\partial x_d}\\right].$$"
   ]
  },
  {
   "cell_type": "markdown",
   "metadata": {},
   "source": [
    "The rules for the differentation are similar to the scalar rules, with small differences as listed below:\n",
    "* **Constants**:\n",
    "$$ \\frac{\\partial \\boldsymbol a}{\\partial \\boldsymbol x} = \\boldsymbol 0$$ \n",
    "* **Linear term:** \n",
    "$$ \\frac{\\partial \\boldsymbol A \\boldsymbol x}{\\partial \\boldsymbol x} = \\boldsymbol A$$\n",
    "* **Quadratic terms**:\n",
    "    $$ \\frac{\\partial \\boldsymbol x^T \\boldsymbol x}{\\partial \\boldsymbol x} = 2 \\boldsymbol x^T$$\n",
    "    \n",
    "    $$ \\frac{\\partial \\boldsymbol x^T \\boldsymbol A \\boldsymbol x}{\\partial \\boldsymbol x} = 2 \\boldsymbol x^T \\boldsymbol A,$$\n",
    "    if $\\boldsymbol A$ is a symmetrix matrix.\n",
    "* **Linearity**: Still holds...\n",
    "* **Chain Rule**: The chain rule is easy to generalize to the vector case.\n",
    "For a composition of functions, i.e., $y = \\boldsymbol f(\\boldsymbol g( \\boldsymbol x))$, we can again introduce an auxiliary variable $\\boldsymbol u = \\boldsymbol g( \\boldsymbol x)$. The derivative of  $y = f(\\boldsymbol g( \\boldsymbol x))$ is then given by\n",
    "$$ \\frac{\\partial f(\\boldsymbol g(\\boldsymbol x)) }{\\partial \\boldsymbol x} = \\frac{\\partial  f(\\boldsymbol u)}{\\partial \\boldsymbol u} \\frac{\\partial \\boldsymbol u}{\\partial \\boldsymbol x}.$$"
   ]
  },
  {
   "cell_type": "markdown",
   "metadata": {},
   "source": [
    "**Example:** We want to compute the derivative of $$ (\\boldsymbol B \\boldsymbol x)^T(\\boldsymbol B \\boldsymbol x)$$. This function can be decomposed in $f(\\boldsymbol u) = \\boldsymbol u^T \\boldsymbol u$ and $\\boldsymbol u =\\boldsymbol g( \\boldsymbol x) = \\boldsymbol B \\boldsymbol x$, with $h(\\boldsymbol x) = f(\\boldsymbol g(\\boldsymbol x))$.\n",
    "* Compute derivative of $f$: $$ \\frac{\\partial  f(\\boldsymbol u)}{\\partial \\boldsymbol u} = \\frac{\\partial  (\\boldsymbol u^T \\boldsymbol u)}{\\partial \\boldsymbol u}= 2 \\boldsymbol u^T.$$\n",
    "* Compute derivative of $\\boldsymbol u$: $$ \\frac{\\partial  \\boldsymbol u}{\\partial \\boldsymbol x} = \\frac{\\partial  (\\boldsymbol B \\boldsymbol x)}{\\partial \\boldsymbol x} = \\boldsymbol B.$$\n",
    "* Final Result:\n",
    "$$ \\frac{\\partial f(\\boldsymbol g( \\boldsymbol x)) }{\\partial \\boldsymbol x} = \\frac{\\partial  f( \\boldsymbol u)}{\\partial \\boldsymbol u} \\frac{\\partial \\boldsymbol u}{\\partial \\boldsymbol x} = 2 \\boldsymbol u^T \\cdot \\boldsymbol B =  2 \\underbrace{\\boldsymbol x^T \\boldsymbol B^T}_{u^T} \\boldsymbol B$$"
   ]
  },
  {
   "cell_type": "markdown",
   "metadata": {},
   "source": [
    "### Excercise 1"
   ]
  },
  {
   "cell_type": "markdown",
   "metadata": {},
   "source": [
    "Using the chain rule, compute the derivative of   \n",
    "$$E(\\boldsymbol x) = (\\boldsymbol a - 5\\boldsymbol x)^T \\boldsymbol A(\\boldsymbol{a} - 5 \\boldsymbol x).$$ Set the derivative to zero and compute the minimum. \n",
    "Plot $E(\\boldsymbol x)$ and $\\frac{\\partial E(\\boldsymbol x)}{\\partial x}$ as 3D plot. For $x_0$ and $x_1$, use an interval of $[-5, 5]$ for the plot using $51$ partitions for each dimension. Confirm your finding of the minimum in the plot. Note that $\\boldsymbol x$ is a 2x1 vector in this equation."
   ]
  },
  {
   "cell_type": "code",
   "execution_count": 9,
   "metadata": {},
   "outputs": [
    {
     "ename": "SyntaxError",
     "evalue": "invalid syntax (<ipython-input-9-11bf884cf04c>, line 12)",
     "output_type": "error",
     "traceback": [
      "\u001b[1;36m  File \u001b[1;32m\"<ipython-input-9-11bf884cf04c>\"\u001b[1;36m, line \u001b[1;32m12\u001b[0m\n\u001b[1;33m    Earray[i,j] = # Put your code here...\u001b[0m\n\u001b[1;37m                                         ^\u001b[0m\n\u001b[1;31mSyntaxError\u001b[0m\u001b[1;31m:\u001b[0m invalid syntax\n"
     ]
    }
   ],
   "source": [
    "A = np.array([[1, 0.5], [0.5, 1]])\n",
    "a = np.array([[1], [0]])\n",
    "\n",
    "# specify data points for x0 and x1 (from - 5 to 5, using 51 uniformly distributed points)\n",
    "x0Array = np.linspace(-5, 5, 51)\n",
    "x1Array = np.linspace(-5, 5, 51)\n",
    "\n",
    "\n",
    "\n",
    "for i in range(0,50):\n",
    "    for j in range(0,50):\n",
    "        Earray[i,j] = # Put your code here...\n",
    "\n",
    "\n",
    "from mpl_toolkits.mplot3d import Axes3D\n",
    "import matplotlib.pyplot as plt\n",
    "from matplotlib import cm\n",
    "from matplotlib.ticker import LinearLocator, FormatStrFormatter\n",
    "\n",
    "fig = plt.figure()\n",
    "ax = fig.gca(projection='3d')\n",
    "\n",
    "x00Grid, x1Grid = np.meshgrid(x0Array, x1Array)\n",
    "\n",
    "# Plot the surface.\n",
    "surf = ax.plot_surface(x0Grid, x1Grid, Earray, cmap=cm.coolwarm,\n",
    "                       linewidth=0, antialiased=False)\n",
    "\n",
    "# Add a color bar which maps values to colors.\n",
    "fig.colorbar(surf, shrink=0.5, aspect=5)\n",
    "plt.xlabel('beta0')\n",
    "plt.ylabel('beta1')\n",
    "plt.savefig('errorfunction.png')\n",
    "plt.show()\n"
   ]
  },
  {
   "cell_type": "markdown",
   "metadata": {},
   "source": [
    "# Minimizing the SSE function"
   ]
  },
  {
   "cell_type": "markdown",
   "metadata": {},
   "source": [
    "In order to compute the minimum of the function, we need to compute its derivative and set it to zero.\n",
    "The SSE function is given by: $$SSE(\\boldsymbol{w}) = (\\boldsymbol{y} - \\boldsymbol{X}\\boldsymbol{w})^T  (\\boldsymbol{y} - {\\boldsymbol{X}}{\\boldsymbol{w}}).$$\n",
    "We can again use the chain rule and introduce the auxiliary variable $\\boldsymbol u = (\\boldsymbol{y} - {\\boldsymbol{X}}{\\boldsymbol{w}})$. The SSE is then given by \n",
    "$$SSE({\\boldsymbol w}) = f(\\boldsymbol g({\\boldsymbol w})),$$\n",
    "with $f(\\boldsymbol{u}) = \\boldsymbol{u}^T\\boldsymbol{u}$ and $\\boldsymbol{u} = \\boldsymbol{g}({ \\boldsymbol{w}})= (\\boldsymbol{y} - {\\boldsymbol{X}}{\\boldsymbol{w}}) $"
   ]
  },
  {
   "cell_type": "markdown",
   "metadata": {},
   "source": [
    "* Compute derivative of $f$: $$ \\frac{\\partial  f(\\boldsymbol u)}{\\partial \\boldsymbol u} = \\frac{\\partial  (\\boldsymbol u^T \\boldsymbol u)}{\\partial \\boldsymbol u}= 2 \\boldsymbol u^T.$$\n",
    "* Compute derivative of $\\boldsymbol u$: $$ \\frac{\\partial  \\boldsymbol u}{\\partial \\boldsymbol{w}} = \\frac{\\partial (\\boldsymbol{y} - \\boldsymbol{X}\\boldsymbol{w}) }{\\partial  \\boldsymbol{w}} = - \\boldsymbol{X}.$$\n",
    "* Final Result:\n",
    "$$ \\frac{\\partial f(\\boldsymbol g( \\boldsymbol{w})) }{\\partial \\boldsymbol{w} } = \\frac{\\partial  f( \\boldsymbol u)}{\\partial \\boldsymbol u} \\frac{\\partial \\boldsymbol u}{\\partial \\boldsymbol{w}} = - 2 \\boldsymbol u^T \\boldsymbol{X} = - 2(\\boldsymbol{y} - \\boldsymbol{X}\\boldsymbol{w})^T \\boldsymbol{X}. $$"
   ]
  },
  {
   "cell_type": "markdown",
   "metadata": {},
   "source": [
    "### Gradient Descent to find the parameters\n",
    "We have the gradient vector and so can find the optimal parameters using Gradient Descent algorithm.\n",
    "You can now write the gradient descent algorithm code to find the weights."
   ]
  },
  {
   "cell_type": "code",
   "execution_count": null,
   "metadata": {
    "collapsed": true
   },
   "outputs": [],
   "source": [
    "# put you code here"
   ]
  },
  {
   "cell_type": "markdown",
   "metadata": {},
   "source": [
    "In the following you will see that the weights can be explicitly found by setting the gradient to zero."
   ]
  },
  {
   "cell_type": "markdown",
   "metadata": {},
   "source": [
    "### Solving for the parameters\n",
    "\n",
    "We now need to set the derivative to $0$, i.e., \n",
    "$$\\frac{\\partial SSE( {\\boldsymbol{w}})}{\\partial {\\boldsymbol{w}}} = \\boldsymbol 0.$$\n",
    "Hence, the derivative w.r.t every dimension should be zero. Now, we solve for ${\\boldsymbol{w}}$ using the following steps:\n",
    "* Cancel constant factors:"
   ]
  },
  {
   "cell_type": "markdown",
   "metadata": {},
   "source": [
    "$$(\\boldsymbol{y} - {\\boldsymbol{X}}{\\boldsymbol{w}})^T {\\boldsymbol{X}} = \\boldsymbol 0. $$\n",
    "* Transpose on both sides (using $(\\boldsymbol{A} \\boldsymbol{B})^T = \\boldsymbol{B}^T \\boldsymbol{A}^T$): "
   ]
  },
  {
   "cell_type": "markdown",
   "metadata": {},
   "source": [
    "$${\\boldsymbol{X}}^T(\\boldsymbol{y} - {\\boldsymbol{X}}{\\boldsymbol{w}}) = \\boldsymbol 0 $$\n",
    "* Multiply out brackets"
   ]
  },
  {
   "cell_type": "markdown",
   "metadata": {},
   "source": [
    "$${\\boldsymbol{X}}^T\\boldsymbol{y} - {\\boldsymbol{X}}^T {\\boldsymbol{X}}{\\boldsymbol{w}} = \\boldsymbol 0 $$\n",
    "* Bring ${\\boldsymbol{X}}^T\\boldsymbol{y}$ on other side"
   ]
  },
  {
   "cell_type": "markdown",
   "metadata": {},
   "source": [
    "$${\\boldsymbol{X}}^T {\\boldsymbol{X}}{\\boldsymbol{w}} = {\\boldsymbol{X}}^T\\boldsymbol{y}$$\n",
    "\n",
    "* Multiply both sides by the inverse of ${\\boldsymbol{X}}^T {\\boldsymbol{X}}$ (multiply on the left)"
   ]
  },
  {
   "cell_type": "markdown",
   "metadata": {},
   "source": [
    "$${\\boldsymbol{w}} = ({\\boldsymbol{X}}^T {\\boldsymbol{X}})^{-1} {\\boldsymbol{X}}^T\\boldsymbol{y}$$\n"
   ]
  },
  {
   "cell_type": "markdown",
   "metadata": {},
   "source": [
    "## The least squares solution"
   ]
  },
  {
   "cell_type": "markdown",
   "metadata": {},
   "source": [
    "The least squares solution is given by:\n",
    "$${\\boldsymbol{w}} = ({\\boldsymbol{X}}^T {\\boldsymbol{X}})^{-1} {\\boldsymbol{X}}^T\\boldsymbol{y}$$"
   ]
  },
  {
   "cell_type": "markdown",
   "metadata": {},
   "source": [
    "* ** Note: ** The term $({\\boldsymbol{X}}^T{\\boldsymbol{X}})^{-1}{\\boldsymbol{X}}^T$ is called the pseudo inverse of matrix ${\\boldsymbol{X}}$. It is used to invert non-square matrices that could not be inverted otherwise."
   ]
  },
  {
   "cell_type": "markdown",
   "metadata": {},
   "source": [
    "## Exercise 2 - Implementation in python"
   ]
  },
  {
   "cell_type": "markdown",
   "metadata": {},
   "source": [
    "We now want to implement the least squares solution that is given above in python. First, construct the Xtilde matrix.\n",
    "Subsequently implement the least squares solution. Try to avoud the linalg.inv method but use the numerically more stable linalg.solve \n",
    "method instead. \n",
    "* Plot again the training data, ground truth and prediction with the optimal least squares solution\n",
    "* What is the SSE of the optimal solution? \n",
    "* Compare your solution to the solution we have found in previous worshop with the grid search. How much do we \n",
    "do better now?"
   ]
  },
  {
   "cell_type": "code",
   "execution_count": null,
   "metadata": {
    "collapsed": true,
    "scrolled": true
   },
   "outputs": [],
   "source": [
    "# Check wether we still have Xtilde (otherwise we need to rerun all scripts)\n",
    "X"
   ]
  },
  {
   "cell_type": "code",
   "execution_count": null,
   "metadata": {
    "collapsed": true
   },
   "outputs": [],
   "source": [
    "import numpy.linalg as linalg\n",
    "\n",
    "w = # put your code here (you can also define additional variables if you want...)\n",
    "w"
   ]
  },
  {
   "cell_type": "code",
   "execution_count": 1,
   "metadata": {},
   "outputs": [
    {
     "ename": "SyntaxError",
     "evalue": "invalid syntax (<ipython-input-1-1dde63649b70>, line 6)",
     "output_type": "error",
     "traceback": [
      "\u001b[1;36m  File \u001b[1;32m\"<ipython-input-1-1dde63649b70>\"\u001b[1;36m, line \u001b[1;32m6\u001b[0m\n\u001b[1;33m    ytest_predicted = # Put your code here...\u001b[0m\n\u001b[1;37m                                             ^\u001b[0m\n\u001b[1;31mSyntaxError\u001b[0m\u001b[1;31m:\u001b[0m invalid syntax\n"
     ]
    }
   ],
   "source": [
    "# Lets plot our function\n",
    "\n",
    "import matplotlib.pyplot as plt\n",
    "\n",
    "Xtest = np.column_stack((np.ones(x_test.shape), x_test))\n",
    "ytest_predicted = # Put your code here...\n",
    "\n",
    "plt.figure()\n",
    "plt.plot(x_test,y_test, 'g')\n",
    "plt.plot(x_test, ytest_predicted, 'r')\n",
    "plt.plot(x_train,y_train, 'bo')\n",
    "plt.legend(('training points', 'ground truth', 'prediction'), loc = 'lower right')\n",
    "plt.hold(True)\n",
    "plt.savefig('regression_LSS.png')\n",
    "plt.show()"
   ]
  },
  {
   "cell_type": "markdown",
   "metadata": {},
   "source": [
    "We can now compute  the error on the training set"
   ]
  },
  {
   "cell_type": "code",
   "execution_count": null,
   "metadata": {
    "collapsed": true
   },
   "outputs": [],
   "source": [
    "error = # Put your code here\n",
    "SSE = # Put your code here\n",
    "SSE"
   ]
  },
  {
   "cell_type": "markdown",
   "metadata": {},
   "source": [
    "In comparison to the hand-picked line parameters from above, our error is approximately half. However, we can still see that the approximation is far from perfect. The ground truth can not be represented by a line, so we will always have a rather large approximation error. "
   ]
  },
  {
   "cell_type": "markdown",
   "metadata": {},
   "source": [
    "# Polynomial Regression"
   ]
  },
  {
   "cell_type": "markdown",
   "metadata": {},
   "source": [
    "Instead of fitting a line, we can also fit a polynomial. We want to fit $d$th order polynomials which are given by\n",
    "$$\\hat y = w_0 + \\sum_{i = 1}^d w_i x^i$$\n",
    "Note that, while $\\hat y$ is now non-linear in $x$, it is still linear in the parameters $w_i$. Hence, we can still apply linear regression here!"
   ]
  },
  {
   "cell_type": "markdown",
   "metadata": {},
   "source": [
    " ## Setting up the data matrix\n",
    " We can still describe $\\hat{y}$ as a scalar product, i.e.,\n",
    " $$\\hat{y} = w_0 + \\sum_{i = 1}^n w_i x^i = \\boldsymbol{x}^T\\boldsymbol{w}, \\textrm{ with } {\\boldsymbol{x}} = \\left[\\begin{array}{c} 1 \\\\ x^1 \\\\ x^2 \\\\ \\vdots \\\\ x^d  \\end{array}\\right] \\textrm{ and } {\\boldsymbol{w}} = \\left[\\begin{array}{c} w_0 \\\\ \\vdots \\\\ w_{d+1}  \\end{array}\\right]$$\n",
    " "
   ]
  },
  {
   "cell_type": "markdown",
   "metadata": {},
   "source": [
    "### Setting up the data matrix in python"
   ]
  },
  {
   "cell_type": "markdown",
   "metadata": {},
   "source": [
    "In python, we write a small function that does the feature expansion up to a certain degree for a given data set x."
   ]
  },
  {
   "cell_type": "code",
   "execution_count": null,
   "metadata": {
    "collapsed": true,
    "scrolled": true
   },
   "outputs": [],
   "source": [
    "def getPolynomialDataMatrix(x, degree):\n",
    "    X = np.ones(x.shape)\n",
    "    for i in range(1,degree + 1):\n",
    "        X = np.column_stack((X, x ** i))\n",
    "    return X\n",
    "    \n",
    "print(getPolynomialDataMatrix(x_train, 4))"
   ]
  },
  {
   "cell_type": "markdown",
   "metadata": {},
   "source": [
    "## Exercise 3: Fit Polynomials with different degrees\n",
    "We now want to test different polynomials and see which one fits our data best. First, implement a function \n",
    "that computes the optimal beta values given the input data x, output data y and the desired degree of the polynomial. Reuse the getPolynomialDataMatrix given above in your function."
   ]
  },
  {
   "cell_type": "code",
   "execution_count": null,
   "metadata": {
    "collapsed": true
   },
   "outputs": [],
   "source": [
    "import numpy.linalg as linalg\n",
    "\n",
    "def getWeightsForPolynomialFit(x,y,degree):\n",
    "    X = getPolynomialDataMatrix(x, degree)\n",
    " \n",
    "    w = # Put your code here\n",
    "\n",
    "    return w"
   ]
  },
  {
   "cell_type": "markdown",
   "metadata": {},
   "source": [
    "Given your getBetaForPolynomialFit function, plot the fitted function for a polynomial 1st, 2nd, 3rd and 4th degree.\n",
    "Can we now fit the structure of the function better?"
   ]
  },
  {
   "cell_type": "code",
   "execution_count": null,
   "metadata": {
    "collapsed": true
   },
   "outputs": [],
   "source": [
    "# Lets plot our polynomials function\n",
    "\n",
    "import matplotlib.pyplot as plt\n",
    "\n",
    "plt.figure()\n",
    "plt.plot(x_test,y_test, 'g')\n",
    "plt.plot(x_train,y_train, 'bo')\n",
    "\n",
    "ytest1 = # Put your code for 1st degree predictions\n",
    "plt.plot(x_test, ytest1, 'r')\n",
    "\n",
    "ytest2 = # Put your code for 1st degree predictions\n",
    "plt.plot(x_test, ytest2, 'g')\n",
    "\n",
    "ytest3 = # Put your code for 1st degree predictions\n",
    "plt.plot(x_test, ytest3, 'm')\n",
    "\n",
    "ytest4 = # Put your code for 1st degree predictions\n",
    "plt.plot(x_test, ytest4, 'c')\n",
    "\n",
    "plt.legend(('training points', 'ground truth', '$x$', '$x^2$', '$x^3$', '$x^4$'), loc = 'lower right')\n",
    "\n",
    "plt.savefig('polynomial.png')"
   ]
  },
  {
   "cell_type": "markdown",
   "metadata": {},
   "source": [
    "As we can see, the predictions for 3rd and 4th order are already quite good. Lets see what happens if we increase \n",
    "the order of the polynomial. Repeat the same plots for for example 7, 10 and 12th order polynomials."
   ]
  },
  {
   "cell_type": "code",
   "execution_count": null,
   "metadata": {
    "collapsed": true
   },
   "outputs": [],
   "source": [
    "# Lets plot our polynomials function\n",
    "\n",
    "import matplotlib.pyplot as plt\n",
    "\n",
    "plt.figure()\n",
    "plt.plot(x_test,y_test, 'g')\n",
    "plt.plot(x_train,y_train, 'bo')\n",
    "\n",
    "\n",
    "ytest7 = # Put your code for 1st degree predictions\n",
    "plt.plot(x_test, ytest7, 'r')\n",
    "\n",
    "ytest10 = # Put your code for 1st degree predictions\n",
    "plt.plot(x_test, ytest10, 'c')\n",
    "\n",
    "ytest12 = # Put your code for 1st degree predictions\n",
    "plt.plot(x_test, ytest12, 'm')\n",
    "\n",
    "plt.ylim((-200, 200))\n",
    "plt.legend(('training points', 'ground truth', '$x^{7}$', '$x^{10}$', '$x^{12}$'), loc = 'lower right')\n",
    "\n",
    "plt.savefig('polynomial1.png')"
   ]
  },
  {
   "cell_type": "markdown",
   "metadata": {},
   "source": [
    "We can clearly see that the prediction performance of our polynomials degrade. Why is that? \n",
    "This effect is called overfitting. We have too many data dimensions and too little data in order to fit the polynomial. Overfitting can have 2 bad effects:\n",
    "* We fit the noise in the data\n",
    "* The function 'does what it wants' between the data points. It is underspecified what the function should do between the data points. \n",
    "\n",
    "However, for the training data, the fit is actually almost perfect. Thats another characteristic of overfitting!"
   ]
  },
  {
   "cell_type": "markdown",
   "metadata": {},
   "source": [
    "## Exercise 4: Evaluating the Models\n",
    "We now want to evaluate the learned models to see which one works best. To do so, we compare polynomials of order\n",
    "1 to 12. Compute the squarred error on the training and on the test set for each of these polynomials and plot them \n",
    "as a function of the degree of the polynomial. Due to the huge differences in the error, use a log-scale plot for the y-axis (see pyplot.semilogy) What are your observations? "
   ]
  },
  {
   "cell_type": "code",
   "execution_count": null,
   "metadata": {
    "collapsed": true
   },
   "outputs": [],
   "source": [
    "SSEtrain = np.zeros((11,1))\n",
    "SSEtest = np.zeros((11,1))\n",
    "\n",
    "\n",
    "# Feel free to use the functions getWeightsForPolynomialFit and getPolynomialDataMatrix\n",
    "for i in range(1,12):\n",
    "    \n",
    "    Xtrain = # Put your code here \n",
    "    Xtest = # Put your code here \n",
    "    \n",
    "    w = # Put your code here  \n",
    "    \n",
    "    SSEtrain[i - 1] = # Put your code here\n",
    "    SSEtest[i - 1] = # Put your code here"
   ]
  },
  {
   "cell_type": "code",
   "execution_count": null,
   "metadata": {
    "collapsed": true
   },
   "outputs": [],
   "source": [
    "# Execute this...\n",
    "import matplotlib.pyplot as plt\n",
    "\n",
    "plt.figure();\n",
    "plt.semilogy(range(1,12), SSEtrain)\n",
    "plt.semilogy(range(1,12), SSEtest)\n",
    "plt.legend(('SSE on training set', 'SSE on test set'))\n",
    "plt.savefig('polynomial_evaluation.png')\n",
    "plt.show()"
   ]
  },
  {
   "cell_type": "markdown",
   "metadata": {},
   "source": [
    "## Overfitting / Under-Fitting\n",
    "We can see that, while the training error decreases with a larger degree of the polynomial, the test set error\n",
    "significantly increases (which is the one we are interested in). This is a typical behavior we get for overfitting. \n",
    "We can make the following conclusions:\n",
    "* In order to fit the data well, we have to find the right model complexity\n",
    "* **Over-fitting:** The model-complexity is too high (degree > 4). We fit the noise and not the data\n",
    "* **Under-fitting:** The model-complexity is too low (degree < 3). We can not represent the data well enough.\n",
    "* For choosing the optimal model, we always have to consider the error on an independent test set not on the training set\n",
    "* On the training set, the error can be arbitrarily good. This is only an indication that the algorithm has learned the example by heart, not that it can generalize to new samples."
   ]
  }
 ],
 "metadata": {
  "anaconda-cloud": {},
  "kernelspec": {
   "display_name": "Python 3",
   "language": "python",
   "name": "python3"
  },
  "language_info": {
   "codemirror_mode": {
    "name": "ipython",
    "version": 3
   },
   "file_extension": ".py",
   "mimetype": "text/x-python",
   "name": "python",
   "nbconvert_exporter": "python",
   "pygments_lexer": "ipython3",
   "version": "3.7.3"
  }
 },
 "nbformat": 4,
 "nbformat_minor": 2
}
